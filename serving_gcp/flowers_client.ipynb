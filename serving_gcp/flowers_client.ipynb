{
  "nbformat": 4,
  "nbformat_minor": 0,
  "metadata": {
    "colab": {
      "name": "Untitled2.ipynb",
      "provenance": [],
      "toc_visible": true
    },
    "kernelspec": {
      "name": "python3",
      "display_name": "Python 3"
    }
  },
  "cells": [
    {
      "cell_type": "code",
      "metadata": {
        "id": "zfp7q6YzamNU",
        "colab_type": "code",
        "colab": {}
      },
      "source": [
        "import grpc\n",
        "import requests\n",
        "import tensorflow as tf\n",
        "\n",
        "import cv2\n",
        "import os\n",
        "import numpy as np\n",
        "\n"
      ],
      "execution_count": 0,
      "outputs": []
    },
    {
      "cell_type": "code",
      "metadata": {
        "id": "vD6kRcSCa6lB",
        "colab_type": "code",
        "colab": {
          "base_uri": "https://localhost:8080/",
          "height": 73
        },
        "outputId": "b5ebfff3-4f05-4ee1-a36a-d903e6df45f8"
      },
      "source": [
        "IMG_SIZE = 224\n",
        "\n",
        "def main():\n",
        "\n",
        "  img_array = cv2.imread('/content/daisy.jpg')\n",
        "  new_array = cv2.resize(img_array, (IMG_SIZE, IMG_SIZE))\n",
        "  new_array = new_array / 255\n",
        "\n",
        "  import json\n",
        "  data = json.dumps(\n",
        "    {\"signature_name\": \"serving_default\", \"instances\": new_array.reshape(-1, 224, 224, 3).tolist()})\n",
        "  print('Data: {} ... {}'.format(data[:50], data[len(data) - 52:]))\n",
        "\n",
        "  headers = {\"content-type\": \"application/json\"}\n",
        "  json_response = requests.post('http://35.226.32.128/v1/models/test0221/versions/1:predict', data=data, headers=headers)\n",
        "  predictions = json.loads(json_response.text)['predictions']\n",
        "  np.argmax(predictions[0])\n",
        "  dicti\n",
        "  for flower, label in dicti.items():\n",
        "    if label == np.argmax(predictions[0]):\n",
        "      print(flower)\n",
        "\n",
        "\n",
        "if __name__ == '__main__':\n",
        "  main()"
      ],
      "execution_count": 9,
      "outputs": [
        {
          "output_type": "stream",
          "text": [
            "Data: {\"signature_name\": \"serving_default\", \"instances\": ... 6862745, 0.5019607843137255, 0.5176470588235295]]]]}\n",
            "daisy\n"
          ],
          "name": "stdout"
        }
      ]
    },
    {
      "cell_type": "code",
      "metadata": {
        "id": "6CvwHmX3a_1W",
        "colab_type": "code",
        "colab": {}
      },
      "source": [
        "dicti = {'daisy': 0, 'dandelion': 1, 'roses': 2, 'sunflowers': 3, 'tulips': 4}"
      ],
      "execution_count": 0,
      "outputs": []
    },
    {
      "cell_type": "code",
      "metadata": {
        "id": "pwdd3F_hdldz",
        "colab_type": "code",
        "colab": {}
      },
      "source": [
        ""
      ],
      "execution_count": 0,
      "outputs": []
    }
  ]
}